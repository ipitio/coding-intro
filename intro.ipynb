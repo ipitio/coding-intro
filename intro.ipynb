{
 "cells": [
  {
   "cell_type": "markdown",
   "metadata": {},
   "source": [
    "# Abstraction 0: Algebra\n"
   ]
  },
  {
   "cell_type": "markdown",
   "metadata": {},
   "source": [
    "Adding two numbers\n"
   ]
  },
  {
   "cell_type": "code",
   "execution_count": null,
   "metadata": {},
   "outputs": [],
   "source": [
    "5 + 1"
   ]
  },
  {
   "cell_type": "markdown",
   "metadata": {},
   "source": [
    "Adding two variables\n"
   ]
  },
  {
   "cell_type": "code",
   "execution_count": null,
   "metadata": {},
   "outputs": [],
   "source": [
    "x = 5\n",
    "y = 1\n",
    "x + y"
   ]
  },
  {
   "cell_type": "markdown",
   "metadata": {},
   "source": [
    "Making a new variable from old ones\n"
   ]
  },
  {
   "cell_type": "code",
   "execution_count": null,
   "metadata": {},
   "outputs": [],
   "source": [
    "z = x + y\n",
    "z"
   ]
  },
  {
   "cell_type": "markdown",
   "metadata": {},
   "source": [
    "Incrementing a variable\n"
   ]
  },
  {
   "cell_type": "code",
   "execution_count": null,
   "metadata": {},
   "outputs": [],
   "source": [
    "x += 1\n",
    "x"
   ]
  },
  {
   "cell_type": "markdown",
   "metadata": {},
   "source": [
    "Adding two strings\n"
   ]
  },
  {
   "cell_type": "code",
   "execution_count": null,
   "metadata": {},
   "outputs": [],
   "source": [
    "\"5\" + \"3\""
   ]
  },
  {
   "cell_type": "markdown",
   "metadata": {},
   "source": [
    "# Input/Output (IO)\n"
   ]
  },
  {
   "cell_type": "markdown",
   "metadata": {},
   "source": [
    "Printing a string\n"
   ]
  },
  {
   "cell_type": "code",
   "execution_count": null,
   "metadata": {},
   "outputs": [],
   "source": [
    "print(\"Hello, World!\")"
   ]
  },
  {
   "cell_type": "markdown",
   "metadata": {},
   "source": [
    "Printing a variable\n"
   ]
  },
  {
   "cell_type": "code",
   "execution_count": null,
   "metadata": {},
   "outputs": [],
   "source": [
    "phrase = \"Hello, World!\"\n",
    "print(phrase)"
   ]
  },
  {
   "cell_type": "markdown",
   "metadata": {},
   "source": [
    "Printing input\n"
   ]
  },
  {
   "cell_type": "code",
   "execution_count": null,
   "metadata": {},
   "outputs": [],
   "source": [
    "phrase = input(\"Enter a phrase: \")\n",
    "phrase"
   ]
  },
  {
   "cell_type": "markdown",
   "metadata": {},
   "source": [
    "# Control Flow\n"
   ]
  },
  {
   "cell_type": "markdown",
   "metadata": {},
   "source": [
    "While loop\n"
   ]
  },
  {
   "cell_type": "code",
   "execution_count": null,
   "metadata": {},
   "outputs": [],
   "source": [
    "i: int = 0\n",
    "while i < 5:\n",
    "    print(i)\n",
    "    i += 1"
   ]
  },
  {
   "cell_type": "markdown",
   "metadata": {},
   "source": [
    "For loop\n"
   ]
  },
  {
   "cell_type": "code",
   "execution_count": null,
   "metadata": {},
   "outputs": [],
   "source": [
    "for i in range(5):\n",
    "    print(i)"
   ]
  },
  {
   "cell_type": "code",
   "execution_count": null,
   "metadata": {},
   "outputs": [],
   "source": [
    "for i in range(5, 10):\n",
    "    print(i)"
   ]
  },
  {
   "cell_type": "code",
   "execution_count": null,
   "metadata": {},
   "outputs": [],
   "source": [
    "for i in range(5, 10, 2):\n",
    "    print(i)"
   ]
  },
  {
   "cell_type": "code",
   "execution_count": null,
   "metadata": {},
   "outputs": [],
   "source": [
    "array: list = [6, 2, 8, 3, 4]\n",
    "for i in array:\n",
    "    print(i)"
   ]
  },
  {
   "cell_type": "code",
   "execution_count": null,
   "metadata": {},
   "outputs": [],
   "source": [
    "for i in range(len(array)):\n",
    "    print(array[i])"
   ]
  },
  {
   "cell_type": "markdown",
   "metadata": {},
   "source": [
    "If-else statement\n"
   ]
  },
  {
   "cell_type": "code",
   "execution_count": null,
   "metadata": {},
   "outputs": [],
   "source": [
    "if x > y:\n",
    "    print(\"x is greater than y\")\n",
    "else:\n",
    "    print(\"x is not greater than y\")"
   ]
  },
  {
   "cell_type": "code",
   "execution_count": null,
   "metadata": {},
   "outputs": [],
   "source": [
    "x: int = 5\n",
    "y: int = 5\n",
    "\n",
    "if x > y:\n",
    "    print(\"x is greater than y\")\n",
    "elif x < y:\n",
    "    print(\"x is less than y\")\n",
    "else:\n",
    "    print(\"x and y are equal\")"
   ]
  },
  {
   "cell_type": "code",
   "execution_count": null,
   "metadata": {},
   "outputs": [],
   "source": [
    "if x > 1:\n",
    "    if x < 10:\n",
    "        print(\"x is greater than 1 and less than 10\")"
   ]
  },
  {
   "cell_type": "code",
   "execution_count": null,
   "metadata": {},
   "outputs": [],
   "source": [
    "if x > 1 and x < 10:\n",
    "    print(f\"x ({x}) is greater than 1 and less than 10\")"
   ]
  },
  {
   "cell_type": "code",
   "execution_count": null,
   "metadata": {},
   "outputs": [],
   "source": [
    "if not (x > 1) and x < 10:\n",
    "    print(f\"x ({x}) is not greater than 1 and less than 10\")\n",
    "\n",
    "if x > 1 and not (x < 10):\n",
    "    print(f\"x ({x}) is greater than 1 and not less than 10\")\n",
    "\n",
    "if not (x > 1) and not (x < 10):\n",
    "    print(f\"x ({x}) is not greater than 1 and not less than 10\")\n",
    "\n",
    "if not (x > 1 and x < 10):\n",
    "    print(f\"x ({x}) is not greater than 1 and not less than 10\")\n",
    "\n",
    "if x > 1 or x < 10:\n",
    "    print(f\"x ({x}) is greater than 1 or less than 10\")\n",
    "\n",
    "if not (x > 1) or x < 10:\n",
    "    print(f\"x ({x}) is not greater than 1 or less than 10\")\n",
    "\n",
    "if x > 1 or not (x < 10):\n",
    "    print(f\"x ({x}) is greater than 1 or not less than 10\")\n",
    "\n",
    "if not (x > 1) or not (x < 10):\n",
    "    print(f\"x ({x}) is not greater than 1 or not less than 10\")\n",
    "\n",
    "if not (x > 1 or x < 10):\n",
    "    print(f\"x ({x}) is neither greater than 1 nor less than 10\")"
   ]
  },
  {
   "cell_type": "markdown",
   "metadata": {},
   "source": [
    "String comparison\n"
   ]
  },
  {
   "cell_type": "code",
   "execution_count": null,
   "metadata": {},
   "outputs": [],
   "source": [
    "\"Dan\" in \"Dandruff is a common problem for many Americans\""
   ]
  },
  {
   "cell_type": "code",
   "execution_count": null,
   "metadata": {},
   "outputs": [],
   "source": [
    "\"Dan\" in \"Dandruff\" in \"Dandruff is a common problem for many Americans\""
   ]
  },
  {
   "cell_type": "code",
   "execution_count": null,
   "metadata": {},
   "outputs": [],
   "source": [
    "\"Dan\" in \"Mary\" in \"Dandruff\""
   ]
  },
  {
   "cell_type": "code",
   "execution_count": null,
   "metadata": {},
   "outputs": [],
   "source": [
    "\"Dan\" in \"D and E are letters of the alphabet\""
   ]
  },
  {
   "cell_type": "code",
   "execution_count": null,
   "metadata": {},
   "outputs": [],
   "source": [
    "\"Dan\" not in \"DaDaDaDan\""
   ]
  },
  {
   "cell_type": "markdown",
   "metadata": {},
   "source": [
    "Putting it all together\n"
   ]
  },
  {
   "cell_type": "code",
   "execution_count": null,
   "metadata": {},
   "outputs": [],
   "source": [
    "fruits = [\"peach\", \"strawberry\", \"watermelon\"]\n",
    "for fruit in fruits:\n",
    "    if \"er\" in fruit:\n",
    "        print(fruit)"
   ]
  },
  {
   "cell_type": "markdown",
   "metadata": {},
   "source": [
    "or...\n"
   ]
  },
  {
   "cell_type": "code",
   "execution_count": null,
   "metadata": {},
   "outputs": [],
   "source": [
    "[fruit for fruit in fruits if \"er\" in fruit]"
   ]
  },
  {
   "cell_type": "markdown",
   "metadata": {},
   "source": [
    "# Abstraction 1: Functions\n"
   ]
  },
  {
   "cell_type": "markdown",
   "metadata": {},
   "source": [
    "Functions\n"
   ]
  },
  {
   "cell_type": "code",
   "execution_count": null,
   "metadata": {},
   "outputs": [],
   "source": [
    "def my_function() -> None:\n",
    "    print(\"This is a function\")\n",
    "\n",
    "\n",
    "my_function()"
   ]
  },
  {
   "cell_type": "code",
   "execution_count": null,
   "metadata": {},
   "outputs": [],
   "source": [
    "def my_function_with_args(username: str, greeting: str) -> None:\n",
    "    print(f\"Hello, {username}, from my function! I wish you {greeting}!\")\n",
    "\n",
    "\n",
    "my_function_with_args(\"John Doe\", \"a great day!\")"
   ]
  },
  {
   "cell_type": "code",
   "execution_count": null,
   "metadata": {},
   "outputs": [],
   "source": [
    "def my_function_with_args_and_defaults(\n",
    "    username: str, greeting: str = \"a great day!\"\n",
    ") -> None:\n",
    "    print(f\"Hello, {username}, from my function! I wish you {greeting}!\")\n",
    "\n",
    "\n",
    "my_function_with_args_and_defaults(\"John Doe\")"
   ]
  },
  {
   "cell_type": "code",
   "execution_count": null,
   "metadata": {},
   "outputs": [],
   "source": [
    "def add(x: int, y: int) -> int:\n",
    "    return x + y\n",
    "\n",
    "\n",
    "add(5, 1)"
   ]
  },
  {
   "cell_type": "markdown",
   "metadata": {},
   "source": [
    "Lambda calculus (anonymous functions)\n"
   ]
  },
  {
   "cell_type": "code",
   "execution_count": null,
   "metadata": {},
   "outputs": [],
   "source": [
    "add = lambda x, y: x + y  # f(x, y) = x + y\n",
    "add(5, 1)"
   ]
  },
  {
   "cell_type": "markdown",
   "metadata": {},
   "source": [
    "This goes down the road of functional programming, with languages like OCaml, Haskell, F#, and Scala. Another way to code is with object-oriented programming, with languages like Java, C#, and Python. There's also procedural programming, with languages like C, Fortran, and Go. As well as declarative programming, with languages like SQL, Prolog (used a lot in AI!), and XSLT. But I think I want to show you [Scratch](https://scratch.mit.edu/projects/878946314), a visual programming language.\n"
   ]
  },
  {
   "cell_type": "markdown",
   "metadata": {},
   "source": [
    "# Abstraction 2: Classes\n"
   ]
  },
  {
   "cell_type": "markdown",
   "metadata": {},
   "source": [
    "Financial Calculator\n"
   ]
  },
  {
   "cell_type": "code",
   "execution_count": null,
   "metadata": {},
   "outputs": [],
   "source": [
    "import numpy as np\n",
    "import numpy_financial as npf\n",
    "import ipywidgets as widgets\n",
    "import plotly.graph_objects as go\n",
    "from ipywidgets import Layout\n",
    "from IPython.display import display, clear_output\n",
    "\n",
    "\n",
    "class FinancialCalculator:\n",
    "    \"\"\"\n",
    "    Calculates the future value of an investment considering various factors such as\n",
    "    regular contributions, compounding frequency, inflation rate, and annual increase in contributions.\n",
    "    \"\"\"\n",
    "\n",
    "    def __init__(\n",
    "        self,\n",
    "        present_value: float,\n",
    "        interest_rate: float,\n",
    "        periods: int,\n",
    "        compounding_frequency: int,\n",
    "        contribution: float = 0.0,\n",
    "        contribution_frequency: int = 12,\n",
    "        inflation_rate: float = 0.0,\n",
    "        annual_contribution_increase: float = 0.0,\n",
    "    ) -> None:\n",
    "        \"\"\"\n",
    "        Initializes a new FinancialCalculator instance with the given parameters.\n",
    "\n",
    "        Parameters:\n",
    "        - present_value (float): The initial amount of money invested.\n",
    "        - interest_rate (float): The annual interest rate as a percentage.\n",
    "        - periods (int): The investment period in years.\n",
    "        - compounding_frequency (int): The number of times interest is compounded per year.\n",
    "        - contribution (float): The regular contribution amount per period.\n",
    "        - contribution_frequency (int): The frequency of contributions per year.\n",
    "        - inflation_rate (float): The annual inflation rate as a percentage.\n",
    "        - annual_contribution_increase (float): The annual percentage increase in the contribution amount.\n",
    "        \"\"\"\n",
    "        if interest_rate < 0 or inflation_rate < 0:\n",
    "            raise ValueError(\"Interest rate and inflation rate must be non-negative.\")\n",
    "        self.pv = present_value\n",
    "        self.ir = interest_rate / 100  # Convert percentage to decimal\n",
    "        self.periods = periods\n",
    "        self.cf = compounding_frequency\n",
    "        self.contribution = contribution\n",
    "        self.contribution_frequency = contribution_frequency\n",
    "        self.inflation_rate = inflation_rate / 100  # Convert percentage to decimal\n",
    "        self.annual_contribution_increase = (\n",
    "            annual_contribution_increase / 100\n",
    "        )  # Convert percentage to decimal\n",
    "\n",
    "    def future_value_with_contributions(self) -> float:\n",
    "        \"\"\"\n",
    "        Calculates the future value of an investment including regular contributions,\n",
    "        accurately accounting for the compounding interest and the timing of contributions,\n",
    "        using numpy_financial.\n",
    "        \"\"\"\n",
    "        # Future value of the initial investment\n",
    "        rate_per_period = self.ir / self.cf\n",
    "        fv_initial = npf.fv(rate_per_period, self.cf * self.periods, 0, -self.pv)\n",
    "\n",
    "        # Future value of contributions\n",
    "        fv_contributions = 0\n",
    "        # For annual contributions, each is increased annually and compounded until the end\n",
    "        if self.cf == 1 and self.contribution_frequency == 1:\n",
    "            for year in range(1, self.periods + 1):\n",
    "                adjusted_contribution = self.contribution * (\n",
    "                    (1 + self.annual_contribution_increase) ** (year - 1)\n",
    "                )\n",
    "                fv_contributions += npf.fv(\n",
    "                    self.ir, self.periods - year, 0, -adjusted_contribution\n",
    "                )\n",
    "        else:\n",
    "            contribution_period = (\n",
    "                1 / self.contribution_frequency\n",
    "            )  # How often contributions are made in years\n",
    "            for year in range(self.periods):\n",
    "                for period in range(self.contribution_frequency):\n",
    "                    time_since_start = year + period * contribution_period\n",
    "                    # Adjust contribution for annual increase\n",
    "                    adjusted_contribution = self.contribution * (\n",
    "                        (1 + self.annual_contribution_increase) ** time_since_start\n",
    "                    )\n",
    "                    # Calculate remaining periods from this contribution to the end\n",
    "                    periods_left = (self.periods - time_since_start) * self.cf\n",
    "                    fv_contributions += npf.fv(\n",
    "                        rate_per_period, periods_left, 0, -adjusted_contribution\n",
    "                    )\n",
    "\n",
    "        return fv_initial + fv_contributions\n",
    "\n",
    "    def adjust_for_inflation(self, amount: float) -> float:\n",
    "        \"\"\"\n",
    "        Adjusts the given amount for inflation over the specified investment period.\n",
    "\n",
    "        Parameters:\n",
    "        - amount (float): The amount to be adjusted for inflation.\n",
    "\n",
    "        Returns:\n",
    "        - The inflation-adjusted value as a float.\n",
    "        \"\"\"\n",
    "        # Adjust the future value for inflation to understand its real value at the end of the investment period\n",
    "        return amount / ((1 + self.inflation_rate) ** self.periods)\n",
    "\n",
    "\n",
    "class InvestmentPlotter:\n",
    "    \"\"\"\n",
    "    A class for plotting the future value of investments over time, allowing for user interaction\n",
    "    to configure investment parameters and visualize their impact on investment growth,\n",
    "    adjusted for inflation and annual contribution increases.\n",
    "    \"\"\"\n",
    "\n",
    "    def __init__(self):\n",
    "        \"\"\"\n",
    "        Initializes the InvestmentPlotter with default settings, setting up widgets for user input\n",
    "        and displaying the initial UI.\n",
    "        \"\"\"\n",
    "        self.investment_scenarios = (\n",
    "            {}\n",
    "        )  # Stores investment parameters keyed by investment names\n",
    "        self.visible_investments = (\n",
    "            set()\n",
    "        )  # Tracks which investments are currently visible on the plot\n",
    "        self.investment_stats = (\n",
    "            {}\n",
    "        )  # Stores investment statistics such as total deposits and interest earned\n",
    "        self.setup_widgets()  # Setup input widgets for user interaction\n",
    "        self.display_ui()  # Display the UI components\n",
    "\n",
    "    def setup_widgets(self):\n",
    "        \"\"\"\n",
    "        Sets up interactive widgets for capturing investment parameters from the user,\n",
    "        including the ability to configure the annual contribution increase.\n",
    "        \"\"\"\n",
    "        # Define input widgets for capturing investment parameters\n",
    "        self.widgets_dict = {\n",
    "            \"name\": widgets.Text(\n",
    "                value=\"Investment A\",\n",
    "                placeholder=\"Enter Investment Name\",\n",
    "                description=\"Investment Name:\",\n",
    "                style={\"description_width\": \"initial\"},\n",
    "                tooltip=\"Enter a name for the investment scenario\",\n",
    "            ),\n",
    "            \"present_value\": widgets.FloatText(\n",
    "                value=1000,\n",
    "                description=\"Present Value ($):\",\n",
    "                style={\"description_width\": \"initial\"},\n",
    "                tooltip=\"The initial amount of money invested\",\n",
    "            ),\n",
    "            \"interest_rate\": widgets.FloatText(\n",
    "                value=5,\n",
    "                description=\"Interest Rate (%):\",\n",
    "                style={\"description_width\": \"initial\"},\n",
    "                tooltip=\"The annual interest rate as a percentage\",\n",
    "            ),\n",
    "            \"periods\": widgets.IntText(\n",
    "                value=30,\n",
    "                description=\"Periods (years):\",\n",
    "                style={\"description_width\": \"initial\"},\n",
    "                tooltip=\"The investment period in years\",\n",
    "                min=1,\n",
    "            ),\n",
    "            \"compounding_frequency\": widgets.IntText(\n",
    "                value=12,\n",
    "                description=\"Compounding Freq.:\",\n",
    "                style={\"description_width\": \"initial\"},\n",
    "                tooltip=\"The number of times interest is compounded per year\",\n",
    "                min=1,\n",
    "                max=365,\n",
    "            ),\n",
    "            \"contribution\": widgets.FloatText(\n",
    "                value=100,\n",
    "                description=\"Contribution ($):\",\n",
    "                style={\"description_width\": \"initial\"},\n",
    "                tooltip=\"The regular contribution amount per period\",\n",
    "                min=0,\n",
    "            ),\n",
    "            \"contribution_frequency\": widgets.IntText(\n",
    "                value=12,\n",
    "                description=\"Contribution Freq.:\",\n",
    "                style={\"description_width\": \"initial\"},\n",
    "                tooltip=\"The frequency of contributions per year\",\n",
    "                min=1,\n",
    "                max=365,\n",
    "            ),\n",
    "            \"inflation_rate\": widgets.FloatText(\n",
    "                value=0,\n",
    "                description=\"Inflation Rate (%):\",\n",
    "                style={\"description_width\": \"initial\"},\n",
    "                tooltip=\"The annual inflation rate as a percentage\",\n",
    "            ),\n",
    "            \"annual_contribution_increase\": widgets.FloatText(\n",
    "                value=0,\n",
    "                description=\"Annual Contrib. Increase (%):\",\n",
    "                style={\"description_width\": \"initial\"},\n",
    "                tooltip=\"The annual percentage increase in the contribution amount\",\n",
    "            ),\n",
    "        }\n",
    "\n",
    "        # Button to trigger the addition or update of an investment scenario\n",
    "        update_button = widgets.Button(description=\"Add/Update and Plot\")\n",
    "        update_button.on_click(self.on_update_clicked)\n",
    "\n",
    "        # Define layouts for the controls and investment list with specific widths\n",
    "        controls_layout = Layout(\n",
    "            width=\"40%\"\n",
    "        )  # Adjust the width as needed for the controls\n",
    "        investment_list_layout = Layout(\n",
    "            width=\"60%\"\n",
    "        )  # Adjust the width as needed for the investment list\n",
    "\n",
    "        # Apply the layout to the controls_ui VBox\n",
    "        self.controls_ui = widgets.VBox(\n",
    "            [*self.widgets_dict.values(), update_button], layout=controls_layout\n",
    "        )\n",
    "\n",
    "        # Apply the layout to the investment_list_ui VBox\n",
    "        self.investment_list_ui = widgets.VBox([], layout=investment_list_layout)\n",
    "\n",
    "        # Combine the controls_ui and investment_list_ui into the main UI\n",
    "        self.main_ui = widgets.HBox([self.controls_ui, self.investment_list_ui])\n",
    "\n",
    "    def display_ui(self):\n",
    "        \"\"\"Displays the main user interface for investment configuration and visualization.\"\"\"\n",
    "        display(self.main_ui)\n",
    "\n",
    "    def on_update_clicked(self, b):\n",
    "        \"\"\"\n",
    "        Handles the event triggered by the 'Add/Update and Plot' button click.\n",
    "        Updates or adds the investment scenario based on user inputs and refreshes the UI and plot.\n",
    "        \"\"\"\n",
    "        investment_name = self.widgets_dict[\"name\"].value.strip()\n",
    "        if investment_name:\n",
    "            # Capture the current settings from the widgets and update the investment scenario\n",
    "            scenario_params = {\n",
    "                k: v.value for k, v in self.widgets_dict.items() if k != \"name\"\n",
    "            }\n",
    "            self.investment_scenarios[investment_name] = scenario_params\n",
    "            self.visible_investments.add(\n",
    "                investment_name\n",
    "            )  # Mark the investment as visible\n",
    "            self.refresh_ui()  # Refresh the UI to reflect changes\n",
    "            self.plot_investments()  # Update the plot with the current investment scenarios\n",
    "\n",
    "    def update_investment_list(self):\n",
    "        \"\"\"\n",
    "        Updates the list of investment scenarios displayed to the user,\n",
    "        including checkboxes for toggling visibility and buttons for deletion.\n",
    "        \"\"\"\n",
    "        investment_items = []\n",
    "        for name, params in self.investment_scenarios.items():\n",
    "            # Calculate total contributions from monthly deposits\n",
    "            total_monthly_contributions = (\n",
    "                params[\"contribution\"]\n",
    "                * params[\"periods\"]\n",
    "                * params[\"contribution_frequency\"]\n",
    "            )\n",
    "\n",
    "            # Instantiate a calculator for the current parameters to compute future values\n",
    "            calculator = FinancialCalculator(**params)\n",
    "            maturity_value = (\n",
    "                calculator.future_value_with_contributions()\n",
    "            )  # Calculate nominal future value\n",
    "            inflation_adjusted_value = calculator.adjust_for_inflation(\n",
    "                maturity_value\n",
    "            )  # Adjust for inflation\n",
    "            total_deposits = total_monthly_contributions + params[\"present_value\"]\n",
    "            total_interest = maturity_value - total_deposits\n",
    "            periods = params[\"periods\"]\n",
    "            self.investment_stats[name] = {\n",
    "                \"principal\": params[\"present_value\"],\n",
    "                \"periods\": periods,\n",
    "                \"final_value\": maturity_value,\n",
    "                \"inflation_adjusted_value\": inflation_adjusted_value,\n",
    "                \"total_deposits\": total_deposits,\n",
    "                \"total_interest\": total_interest,\n",
    "            }\n",
    "\n",
    "            # Create a checkbox for toggling the investment's visibility on the plot\n",
    "            checkbox = widgets.Checkbox(\n",
    "                value=name in self.visible_investments,\n",
    "                description=f\"{name}\",\n",
    "                indent=False,\n",
    "            )\n",
    "            checkbox.observe(\n",
    "                lambda change, name=name: self.on_checkbox_toggle(change, name),\n",
    "                names=\"value\",\n",
    "            )\n",
    "\n",
    "            # Button to remove the investment scenario\n",
    "            delete_button = widgets.Button(icon=\"trash\", tooltip=\"Delete\")\n",
    "            delete_button.on_click(lambda b, name=name: self.delete_investment(name))\n",
    "\n",
    "            investment_items.append(\n",
    "                widgets.HBox([checkbox, delete_button])\n",
    "            )  # Combine checkbox and button for each investment\n",
    "\n",
    "        self.investment_list_ui.children = (\n",
    "            investment_items  # Update the UI with the new list of investments\n",
    "        )\n",
    "\n",
    "    def delete_investment(self, name):\n",
    "        \"\"\"\n",
    "        Removes an investment scenario from the list based on its name.\n",
    "        Updates the list of investments and re-plots the remaining investments.\n",
    "        \"\"\"\n",
    "        if name in self.investment_scenarios:\n",
    "            # Remove the investment scenario from the dictionary\n",
    "            del self.investment_scenarios[name]\n",
    "            # Also, update its visibility status\n",
    "            self.visible_investments.discard(\n",
    "                name\n",
    "            )  # Ensure it is no longer marked as visible\n",
    "\n",
    "            # After deletion, refresh the UI and explicitly replot the investments\n",
    "            self.refresh_ui()  # This will clear the output and update the investment list UI\n",
    "            self.plot_investments()  # Explicitly call to replot remaining investments\n",
    "\n",
    "    def refresh_ui(self):\n",
    "        \"\"\"\n",
    "        Refreshes the UI components. Clears the output and updates the investment list.\n",
    "        This method is called after any operation that requires a fresh display of the UI.\n",
    "        \"\"\"\n",
    "        clear_output(wait=True)  # Clears the output including plots and UI elements\n",
    "        self.update_investment_list()  # Updates the investment list UI with current scenarios\n",
    "        self.display_ui()  # Re-displays the UI components\n",
    "\n",
    "    def on_checkbox_toggle(self, change, name):\n",
    "        \"\"\"\n",
    "        Toggles the visibility of an investment scenario on the plot based on the checkbox state.\n",
    "        \"\"\"\n",
    "        if change[\"new\"]:\n",
    "            self.visible_investments.add(name)\n",
    "        else:\n",
    "            self.visible_investments.discard(name)\n",
    "        self.plot_investments()  # Refresh the plot to reflect the change in visibility\n",
    "\n",
    "    def plot_investments(self):\n",
    "        \"\"\"\n",
    "        Generates and displays a plot of the future value of visible investments over time,\n",
    "        adjusted for inflation and considering annual contribution increases.\n",
    "        \"\"\"\n",
    "        clear_output(\n",
    "            wait=True\n",
    "        )  # Ensure the plot area is cleared before drawing a new plot\n",
    "        self.display_ui()  # Ensure UI elements are displayed correctly after clearing the output\n",
    "\n",
    "        if self.visible_investments:\n",
    "            fig = go.Figure()\n",
    "            for label, params in self.investment_scenarios.items():\n",
    "                if label in self.visible_investments:  # Only plot if marked visible\n",
    "                    calculator = FinancialCalculator(**params)\n",
    "                    periods = np.arange(1, params[\"periods\"] + 1)\n",
    "                    future_values = []\n",
    "                    for period in periods:\n",
    "                        calculator.periods = period  # Dynamically update the period for accurate calculation\n",
    "                        fv = calculator.adjust_for_inflation(\n",
    "                            calculator.future_value_with_contributions()\n",
    "                        )\n",
    "                        future_values.append(fv)\n",
    "                    fig.add_trace(go.Scatter(x=periods, y=future_values, name=label))\n",
    "\n",
    "            fig.update_layout(\n",
    "                title=\"Future Value of Investments Over Time (Adjusted for Inflation)\",\n",
    "                xaxis_title=\"Years\",\n",
    "                yaxis_title=\"Future Value ($)\",\n",
    "                hovermode=\"closest\",\n",
    "            )\n",
    "\n",
    "            fig.show()\n",
    "\n",
    "            # Below the plot, display the investment statistics as a pretty table\n",
    "            print(\"Summary:\")\n",
    "            for name, stats in self.investment_stats.items():\n",
    "                if name in self.visible_investments:\n",
    "                    print(\n",
    "                        f\"\\n{name} - {stats['periods']} years\\n\\tPrincipal:\\t\\t${stats['principal']:,.2f}\\n\\tFinal Value (FV):\\t${stats['final_value']:,.2f}\\n\\tInflation-Adjusted FV:\\t${stats['inflation_adjusted_value']:,.2f}\\n\\tTotal Interest:\\t\\t${stats['total_interest']:,.2f}\\n\\tTotal Deposits:\\t\\t${stats['total_deposits']:,.2f}\"\n",
    "                    )\n",
    "        else:\n",
    "            print(\"No investments selected.\")\n",
    "\n",
    "\n",
    "plot = InvestmentPlotter()"
   ]
  },
  {
   "cell_type": "markdown",
   "metadata": {},
   "source": [
    "I'll update this with inheritance and possibly polymorphism soon--stay tuned!\n"
   ]
  }
 ],
 "metadata": {
  "kernelspec": {
   "display_name": "Python 3",
   "language": "python",
   "name": "python3"
  },
  "language_info": {
   "codemirror_mode": {
    "name": "ipython",
    "version": 3
   },
   "file_extension": ".py",
   "mimetype": "text/x-python",
   "name": "python",
   "nbconvert_exporter": "python",
   "pygments_lexer": "ipython3",
   "version": "3.11.6"
  }
 },
 "nbformat": 4,
 "nbformat_minor": 2
}
